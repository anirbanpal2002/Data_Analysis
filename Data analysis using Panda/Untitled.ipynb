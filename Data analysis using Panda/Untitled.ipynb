{
 "cells": [
  {
   "cell_type": "code",
   "execution_count": 8,
   "id": "74e77ace",
   "metadata": {},
   "outputs": [
    {
     "name": "stdout",
     "output_type": "stream",
     "text": [
      "7\n"
     ]
    }
   ],
   "source": [
    "a=\"anirban\"\n",
    "print(len(a))"
   ]
  },
  {
   "cell_type": "code",
   "execution_count": 1,
   "id": "598a4a46",
   "metadata": {},
   "outputs": [
    {
     "name": "stdout",
     "output_type": "stream",
     "text": [
      "['Electronics' 'Furniture' 'Clothing']\n"
     ]
    }
   ],
   "source": [
    "import pandas as pd\n",
    "\n",
    "# Load the CSV file\n",
    "df = pd.read_csv(\"Details.csv\")\n",
    "\n",
    "# Get unique values from a specific column (e.g., \"ColumnName\")\n",
    "unique_values = df[\"Category\"].unique()\n",
    "\n",
    "print(unique_values)\n"
   ]
  },
  {
   "cell_type": "code",
   "execution_count": 3,
   "id": "70bc51c0",
   "metadata": {},
   "outputs": [
    {
     "name": "stdout",
     "output_type": "stream",
     "text": [
      "  Order ID  Amount  Profit  Quantity     Category      Sub-Category  \\\n",
      "0  B-25681    1096     658         7  Electronics  Electronic Games   \n",
      "1  B-26055    5729      64        14    Furniture            Chairs   \n",
      "2  B-25955    2927     146         8    Furniture         Bookcases   \n",
      "3  B-26093    2847     712         8  Electronics          Printers   \n",
      "4  B-25602    2617    1151         4  Electronics            Phones   \n",
      "\n",
      "   PaymentMode  \n",
      "0          COD  \n",
      "1          EMI  \n",
      "2          EMI  \n",
      "3  Credit Card  \n",
      "4  Credit Card  \n"
     ]
    }
   ],
   "source": [
    "import pandas as pd\n",
    "df=pd.read_csv(\"Details.csv\")\n",
    "print(df.head(5))"
   ]
  },
  {
   "cell_type": "code",
   "execution_count": 2,
   "id": "d3987cba",
   "metadata": {},
   "outputs": [
    {
     "name": "stdout",
     "output_type": "stream",
     "text": [
      "Defaulting to user installation because normal site-packages is not writeable\n",
      "Requirement already satisfied: numpy in d:\\collageproject\\projectwithbishal\\anaconda\\lib\\site-packages (1.24.3)\n"
     ]
    },
    {
     "name": "stderr",
     "output_type": "stream",
     "text": [
      "DEPRECATION: Loading egg at d:\\collageproject\\projectwithbishal\\anaconda\\lib\\site-packages\\vboxapi-1.0-py3.11.egg is deprecated. pip 24.3 will enforce this behaviour change. A possible replacement is to use pip for package installation.. Discussion can be found at https://github.com/pypa/pip/issues/12330\n",
      "\n",
      "[notice] A new release of pip is available: 23.3.2 -> 25.0.1\n",
      "[notice] To update, run: python.exe -m pip install --upgrade pip\n"
     ]
    }
   ],
   "source": [
    "! pip install numpy"
   ]
  },
  {
   "cell_type": "code",
   "execution_count": 2,
   "id": "184361f8",
   "metadata": {},
   "outputs": [
    {
     "name": "stdout",
     "output_type": "stream",
     "text": [
      "5729\n"
     ]
    }
   ],
   "source": [
    "import numpy as np\n",
    "import pandas as pd\n",
    "df=pd.read_csv(\"Details.csv\")\n",
    "p=np.array(df['Amount'])\n",
    "g=0\n",
    "for i in p:\n",
    "    if i>g:\n",
    "        g=i\n",
    "print(g)"
   ]
  },
  {
   "cell_type": "code",
   "execution_count": 4,
   "id": "13acb2ce",
   "metadata": {},
   "outputs": [
    {
     "name": "stdout",
     "output_type": "stream",
     "text": [
      "Defaulting to user installation because normal site-packages is not writeable\n",
      "Requirement already satisfied: pandas in d:\\collageproject\\projectwithbishal\\anaconda\\lib\\site-packages (1.5.3)\n",
      "Requirement already satisfied: python-dateutil>=2.8.1 in d:\\collageproject\\projectwithbishal\\anaconda\\lib\\site-packages (from pandas) (2.8.2)\n",
      "Requirement already satisfied: pytz>=2020.1 in d:\\collageproject\\projectwithbishal\\anaconda\\lib\\site-packages (from pandas) (2022.7)\n",
      "Requirement already satisfied: numpy>=1.21.0 in d:\\collageproject\\projectwithbishal\\anaconda\\lib\\site-packages (from pandas) (1.24.3)\n",
      "Requirement already satisfied: six>=1.5 in d:\\collageproject\\projectwithbishal\\anaconda\\lib\\site-packages (from python-dateutil>=2.8.1->pandas) (1.16.0)\n"
     ]
    },
    {
     "name": "stderr",
     "output_type": "stream",
     "text": [
      "DEPRECATION: Loading egg at d:\\collageproject\\projectwithbishal\\anaconda\\lib\\site-packages\\vboxapi-1.0-py3.11.egg is deprecated. pip 24.3 will enforce this behaviour change. A possible replacement is to use pip for package installation.. Discussion can be found at https://github.com/pypa/pip/issues/12330\n",
      "\n",
      "[notice] A new release of pip is available: 23.3.2 -> 25.0.1\n",
      "[notice] To update, run: python.exe -m pip install --upgrade pip\n"
     ]
    }
   ],
   "source": [
    "! pip install pandas"
   ]
  },
  {
   "cell_type": "code",
   "execution_count": 2,
   "id": "6fcb79e0",
   "metadata": {},
   "outputs": [
    {
     "name": "stdout",
     "output_type": "stream",
     "text": [
      "     Order ID  Amount  Profit  Quantity     Category      Sub-Category  \\\n",
      "0     B-25681    1096     658         7  Electronics  Electronic Games   \n",
      "1     B-26055    5729      64        14    Furniture            Chairs   \n",
      "2     B-25955    2927     146         8    Furniture         Bookcases   \n",
      "3     B-26093    2847     712         8  Electronics          Printers   \n",
      "4     B-25602    2617    1151         4  Electronics            Phones   \n",
      "...       ...     ...     ...       ...          ...               ...   \n",
      "1495  B-25700       7      -3         2     Clothing       Hankerchief   \n",
      "1496  B-25757    3151     -35         7     Clothing          Trousers   \n",
      "1497  B-25973    4141    1698        13  Electronics          Printers   \n",
      "1498  B-25698       7      -2         1     Clothing       Hankerchief   \n",
      "1499  B-25993    4363     305         5    Furniture            Tables   \n",
      "\n",
      "      PaymentMode  \n",
      "0             COD  \n",
      "1             EMI  \n",
      "2             EMI  \n",
      "3     Credit Card  \n",
      "4     Credit Card  \n",
      "...           ...  \n",
      "1495          COD  \n",
      "1496          EMI  \n",
      "1497          COD  \n",
      "1498          COD  \n",
      "1499          EMI  \n",
      "\n",
      "[1500 rows x 7 columns]\n"
     ]
    }
   ],
   "source": [
    "import pandas as pd\n",
    "df = pd.read_csv(\"Details.csv\")\n",
    "print(df)"
   ]
  },
  {
   "cell_type": "code",
   "execution_count": null,
   "id": "7a2422e7",
   "metadata": {},
   "outputs": [
    {
     "name": "stdout",
     "output_type": "stream",
     "text": [
      "0\n"
     ]
    }
   ],
   "source": [
    "import pandas as pd\n",
    "import numpy as np\n",
    "df = pd.read_csv(\"Details.csv\")\n",
    "p=np.array(df['Profit'])\n",
    "count=0\n",
    "for i in p:\n",
    "    if i>1000:\n",
    "        count=count+1\n",
    "print(count)\n"
   ]
  },
  {
   "cell_type": "code",
   "execution_count": 16,
   "id": "623ac3da",
   "metadata": {},
   "outputs": [
    {
     "name": "stdout",
     "output_type": "stream",
     "text": [
      "{1151: 1, 1050: 1, 1303: 1, 1864: 1, 1148: 1, 1698: 1}\n"
     ]
    }
   ],
   "source": [
    "import pandas as pd\n",
    "import numpy as np  \n",
    "df = pd.read_csv(\"Details.csv\")\n",
    "p=np.array(df['Profit'])\n",
    "\n",
    "count={}\n",
    "for i in p:\n",
    "    if i>1000:\n",
    "        count[i]=count.get(i,0)+1\n",
    "print(count)\n"
   ]
  },
  {
   "cell_type": "code",
   "execution_count": null,
   "id": "a575be67",
   "metadata": {},
   "outputs": [
    {
     "name": "stdout",
     "output_type": "stream",
     "text": [
      "5\n"
     ]
    }
   ],
   "source": [
    "a=[1,2,3,4,5]\n",
    "g=0\n",
    "for i in a:\n",
    "    if i>g:\n",
    "        g=i\n",
    "print(g)"
   ]
  },
  {
   "cell_type": "code",
   "execution_count": 18,
   "id": "95748531",
   "metadata": {},
   "outputs": [
    {
     "name": "stdout",
     "output_type": "stream",
     "text": [
      "{'COD': 684, 'EMI': 120, 'Credit Card': 163, 'UPI': 331, 'Debit Card': 202}\n"
     ]
    }
   ],
   "source": [
    "import pandas as pd\n",
    "import numpy as np  \n",
    "df = pd.read_csv(\"Details.csv\")\n",
    "p=np.array(df['PaymentMode'])\n",
    "count={}\n",
    "for i in df['PaymentMode']:\n",
    "    count[i]=count.get(i,0)+1\n",
    "print(count)"
   ]
  },
  {
   "cell_type": "code",
   "execution_count": null,
   "id": "59d0a9df",
   "metadata": {},
   "outputs": [],
   "source": []
  }
 ],
 "metadata": {
  "kernelspec": {
   "display_name": "base",
   "language": "python",
   "name": "python3"
  },
  "language_info": {
   "codemirror_mode": {
    "name": "ipython",
    "version": 3
   },
   "file_extension": ".py",
   "mimetype": "text/x-python",
   "name": "python",
   "nbconvert_exporter": "python",
   "pygments_lexer": "ipython3",
   "version": "3.11.4"
  }
 },
 "nbformat": 4,
 "nbformat_minor": 5
}
